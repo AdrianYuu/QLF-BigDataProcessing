{
 "cells": [
  {
   "cell_type": "code",
   "execution_count": 461,
   "metadata": {},
   "outputs": [],
   "source": [
    "from pyspark.sql import SparkSession\n",
    "from pyspark.sql.functions import *\n",
    "from pyspark.ml.feature import VectorAssembler, StandardScaler\n",
    "from pyspark.ml.classification import LogisticRegression\n",
    "from pyspark.ml.evaluation import BinaryClassificationEvaluator"
   ]
  },
  {
   "cell_type": "code",
   "execution_count": 462,
   "metadata": {},
   "outputs": [],
   "source": [
    "spark = SparkSession.builder.getOrCreate()"
   ]
  },
  {
   "cell_type": "code",
   "execution_count": 463,
   "metadata": {},
   "outputs": [],
   "source": [
    "# Import data from csv\n",
    "df = spark.read.csv(\"births.csv\", header = True, inferSchema = True)\n",
    "df_train, df_test = df.randomSplit([0.8, 0.2], seed = 408)"
   ]
  },
  {
   "cell_type": "code",
   "execution_count": 464,
   "metadata": {},
   "outputs": [],
   "source": [
    "# Select Feature\n",
    "df_train = df_train.select(\"INFANT_ALIVE_AT_REPORT\", \"INFANT_SEX\", \"CIG_BEFORE\", \"ANESTHESIA\", \"STEROIDS\", \n",
    "                           \"MOTHER_BMI_RECODE\", \"ANTIBIOTICS\", \"DIABETES_GEST\", \"APGAR_5\")\n",
    "df_test = df_test.select(\"INFANT_ALIVE_AT_REPORT\", \"INFANT_SEX\", \"CIG_BEFORE\", \"ANESTHESIA\", \"STEROIDS\", \n",
    "                           \"MOTHER_BMI_RECODE\", \"ANTIBIOTICS\", \"DIABETES_GEST\", \"APGAR_5\")"
   ]
  },
  {
   "cell_type": "code",
   "execution_count": 465,
   "metadata": {},
   "outputs": [],
   "source": [
    "# Filter yang NA\n",
    "df_train = df_train.dropna()\n",
    "df_test = df_test.dropna()"
   ]
  },
  {
   "cell_type": "code",
   "execution_count": 466,
   "metadata": {},
   "outputs": [],
   "source": [
    "# Transform Data\n",
    "df_train = df_train.withColumn(\"INFANT_ALIVE_AT_REPORT\", when(df_train[\"INFANT_ALIVE_AT_REPORT\"] == \"N\", 0)\n",
    "                                                        .when(df_train[\"INFANT_ALIVE_AT_REPORT\"] == \"Y\", 1)\n",
    "                              )\n",
    "\n",
    "df_train = df_train.withColumn(\"INFANT_SEX\", when(df_train[\"INFANT_SEX\"] == \"F\", 0)\n",
    "                                            .when(df_train[\"INFANT_SEX\"] == \"M\", 1)\n",
    "                              )\n",
    "\n",
    "df_train = df_train.withColumn(\"ANESTHESIA\", when(df_train[\"ANESTHESIA\"] == \"N\", 0)\n",
    "                                            .when(df_train[\"ANESTHESIA\"] == \"Y\", 1)\n",
    "                                            .when(df_train[\"ANESTHESIA\"] == \"U\", 2)\n",
    "                              )\n",
    "\n",
    "df_train = df_train.withColumn(\"STEROIDS\",   when(df_train[\"STEROIDS\"] == \"N\", 0)\n",
    "                                            .when(df_train[\"STEROIDS\"] == \"Y\", 1)\n",
    "                                            .when(df_train[\"STEROIDS\"] == \"U\", 2)\n",
    "                              )\n",
    "\n",
    "df_train = df_train.withColumn(\"ANTIBIOTICS\",   when(df_train[\"ANTIBIOTICS\"] == \"N\", 0)\n",
    "                                               .when(df_train[\"ANTIBIOTICS\"] == \"Y\", 1)\n",
    "                                               .when(df_train[\"ANTIBIOTICS\"] == \"U\", 2)\n",
    "                              )\n",
    "\n",
    "df_train = df_train.withColumn(\"DIABETES_GEST\", when(df_train[\"DIABETES_GEST\"] == \"N\", 0)\n",
    "                                               .when(df_train[\"DIABETES_GEST\"] == \"Y\", 1)\n",
    "                                               .when(df_train[\"DIABETES_GEST\"] == \"U\", 2)\n",
    "                              )\n",
    "\n",
    "\n",
    "df_test = df_test.withColumn(\"INFANT_ALIVE_AT_REPORT\", when(df_test[\"INFANT_ALIVE_AT_REPORT\"] == \"N\", 0)\n",
    "                                                      .when(df_test[\"INFANT_ALIVE_AT_REPORT\"] == \"Y\", 1)\n",
    "                              )\n",
    "\n",
    "df_test = df_test.withColumn(\"INFANT_SEX\",   when(df_test[\"INFANT_SEX\"] == \"F\", 0)\n",
    "                                            .when(df_test[\"INFANT_SEX\"] == \"M\", 1)\n",
    "                              )\n",
    "\n",
    "df_test = df_test.withColumn(\"ANESTHESIA\",   when(df_test[\"ANESTHESIA\"] == \"N\", 0)\n",
    "                                            .when(df_test[\"ANESTHESIA\"] == \"Y\", 1)\n",
    "                                            .when(df_test[\"ANESTHESIA\"] == \"U\", 2)\n",
    "                              )\n",
    "\n",
    "df_test = df_test.withColumn(\"STEROIDS\",     when(df_test[\"STEROIDS\"] == \"N\", 0)\n",
    "                                            .when(df_test[\"STEROIDS\"] == \"Y\", 1)\n",
    "                                            .when(df_test[\"STEROIDS\"] == \"U\", 2)\n",
    "                              )\n",
    "\n",
    "df_test = df_test.withColumn(\"ANTIBIOTICS\",     when(df_test[\"ANTIBIOTICS\"] == \"N\", 0)\n",
    "                                               .when(df_test[\"ANTIBIOTICS\"] == \"Y\", 1)\n",
    "                                               .when(df_test[\"ANTIBIOTICS\"] == \"U\", 2)\n",
    "                              )\n",
    "\n",
    "df_test = df_test.withColumn(\"DIABETES_GEST\",   when(df_test[\"DIABETES_GEST\"] == \"N\", 0)\n",
    "                                               .when(df_test[\"DIABETES_GEST\"] == \"Y\", 1)\n",
    "                                               .when(df_test[\"DIABETES_GEST\"] == \"U\", 2)\n",
    "                              )"
   ]
  },
  {
   "cell_type": "code",
   "execution_count": 467,
   "metadata": {},
   "outputs": [],
   "source": [
    "# Preprocessing Data\n",
    "cols = df_train.columns\n",
    "\n",
    "# Normalization\n",
    "cols.remove(\"INFANT_ALIVE_AT_REPORT\")\n",
    "\n",
    "df_train = VectorAssembler(inputCols = cols, outputCol = \"VectorOut\").transform(df_train)\n",
    "df_train = StandardScaler(inputCol = \"VectorOut\", outputCol = \"features\").fit(df_train).transform(df_train)\n",
    "\n",
    "df_test = VectorAssembler(inputCols = cols, outputCol = \"VectorOut\").transform(df_test)\n",
    "df_test = StandardScaler(inputCol = \"VectorOut\", outputCol = \"features\").fit(df_test).transform(df_test)"
   ]
  },
  {
   "cell_type": "code",
   "execution_count": 468,
   "metadata": {},
   "outputs": [
    {
     "name": "stdout",
     "output_type": "stream",
     "text": [
      "+----------------------------------------------------------------------------------------------------------+\n",
      "|features                                                                                                  |\n",
      "+----------------------------------------------------------------------------------------------------------+\n",
      "|(8,[0,4,5],[2.004051141118474,1.5274261232028263,2.2834315969605097])                                     |\n",
      "|(8,[0,4,5,7],[2.004051141118474,1.5274261232028263,2.2834315969605097,0.12097854947423477])               |\n",
      "|(8,[4,7],[1.0182840821352175,0.060489274737117384])                                                       |\n",
      "|(8,[0,2,4,7],[2.004051141118474,2.012177507746448,1.0182840821352175,5.988438198974621])                  |\n",
      "|(8,[1,4,7],[0.634369170235483,1.0182840821352175,0.12097854947423477])                                    |\n",
      "|(8,[2,4,7],[2.012177507746448,1.0182840821352175,0.060489274737117384])                                   |\n",
      "|(8,[2,4,7],[2.012177507746448,1.0182840821352175,0.060489274737117384])                                   |\n",
      "|(8,[0,2,4,7],[2.004051141118474,2.012177507746448,2.036568164270435,0.24195709894846953])                 |\n",
      "|(8,[4,5,7],[4.582278369608479,2.2834315969605097,0.060489274737117384])                                   |\n",
      "|(8,[2,4,5,7],[2.012177507746448,1.0182840821352175,2.2834315969605097,0.3629356484227043])                |\n",
      "|(8,[4,7],[4.582278369608479,0.060489274737117384])                                                        |\n",
      "|(8,[0,4,5],[2.004051141118474,2.036568164270435,2.2834315969605097])                                      |\n",
      "|(8,[0,1,2,4],[2.004051141118474,0.634369170235483,2.012177507746448,1.0182840821352175])                  |\n",
      "|(8,[0,1,4,7],[2.004051141118474,0.3171845851177415,1.0182840821352175,0.060489274737117384])              |\n",
      "|(8,[0,1,4,7],[2.004051141118474,6.280254785331281,4.582278369608479,0.060489274737117384])                |\n",
      "|(8,[0,4,7],[2.004051141118474,1.0182840821352175,0.060489274737117384])                                   |\n",
      "|(8,[2,4,5,7],[2.012177507746448,1.0182840821352175,2.2834315969605097,0.3024463736855869])                |\n",
      "|(8,[0,2,4,7],[2.004051141118474,2.012177507746448,1.0182840821352175,0.060489274737117384])               |\n",
      "|(8,[0,2,4,7],[2.004051141118474,2.012177507746448,1.0182840821352175,0.060489274737117384])               |\n",
      "|[2.004051141118474,0.0,0.0,4.023688654565749,2.036568164270435,2.2834315969605097,0.0,0.48391419789693907]|\n",
      "+----------------------------------------------------------------------------------------------------------+\n",
      "only showing top 20 rows\n",
      "\n"
     ]
    }
   ],
   "source": [
    "# Display Features\n",
    "df_train.select(\"features\").show(truncate=False)"
   ]
  },
  {
   "cell_type": "code",
   "execution_count": 469,
   "metadata": {},
   "outputs": [],
   "source": [
    "# Model\n",
    "model = LogisticRegression(featuresCol = \"features\", labelCol = \"INFANT_ALIVE_AT_REPORT\", maxIter = 100).fit(df_train)"
   ]
  },
  {
   "cell_type": "code",
   "execution_count": 470,
   "metadata": {},
   "outputs": [],
   "source": [
    "# Make the predict_result\n",
    "predict_result = model.transform(df_test)"
   ]
  },
  {
   "cell_type": "code",
   "execution_count": 471,
   "metadata": {},
   "outputs": [
    {
     "name": "stdout",
     "output_type": "stream",
     "text": [
      "0.733725406330195%\n"
     ]
    }
   ],
   "source": [
    "# Evaluate\n",
    "evaluator = BinaryClassificationEvaluator(labelCol = \"INFANT_ALIVE_AT_REPORT\")\n",
    "\n",
    "print(f\"{evaluator.evaluate(predict_result)}%\")"
   ]
  },
  {
   "cell_type": "code",
   "execution_count": 472,
   "metadata": {},
   "outputs": [],
   "source": [
    "predict_result = predict_result.toPandas()"
   ]
  },
  {
   "cell_type": "code",
   "execution_count": 473,
   "metadata": {},
   "outputs": [],
   "source": [
    "import matplotlib.pyplot as plt"
   ]
  },
  {
   "cell_type": "code",
   "execution_count": 474,
   "metadata": {},
   "outputs": [],
   "source": [
    "# Visualization\n",
    "\n",
    "anesthesia_death = 0\n",
    "anesthesia_alive = 0\n",
    "\n",
    "antibiotics_death = 0\n",
    "antibiotics_alive = 0\n",
    "\n",
    "survived = 0\n",
    "not_survived = 0\n",
    "\n",
    "for index, row in predict_result.iterrows():\n",
    "    if row[\"prediction\"] == 1:\n",
    "        survived += 1\n",
    "        if row[\"ANESTHESIA\"] == 1:\n",
    "            anesthesia_alive += 1\n",
    "        if row[\"ANTIBIOTICS\"] == 1:\n",
    "            antibiotics_alive += 1\n",
    "    else:\n",
    "        not_survived += 1\n",
    "        if row[\"ANESTHESIA\"] == 1:\n",
    "            anesthesia_death += 1\n",
    "        if row[\"ANTIBIOTICS\"] == 1:\n",
    "            antibiotics_death += 1"
   ]
  },
  {
   "cell_type": "code",
   "execution_count": 475,
   "metadata": {},
   "outputs": [
    {
     "data": {
      "image/png": "[encoded data removed]",
      "text/plain": [
       "<Figure size 432x288 with 1 Axes>"
      ]
     },
     "metadata": {},
     "output_type": "display_data"
    }
   ],
   "source": [
    "# Pie Chart\n",
    "amount = [survived, not_survived]\n",
    "\n",
    "plt.title(\"Survive Rates\")\n",
    "plt.pie(amount, labels=[\"Survived\", \"Not Survived\"], autopct = \"%.2f%%\")\n",
    "plt.show()"
   ]
  },
  {
   "cell_type": "code",
   "execution_count": 476,
   "metadata": {},
   "outputs": [
    {
     "data": {
      "image/png": "[encoded data removed]",
      "text/plain": [
       "<Figure size 432x288 with 1 Axes>"
      ]
     },
     "metadata": {
      "needs_background": "light"
     },
     "output_type": "display_data"
    }
   ],
   "source": [
    "# Bar Chart\n",
    "amount = [anesthesia_death, anesthesia_alive, antibiotics_death, antibiotics_alive,]\n",
    "\n",
    "plt.title(\"Frequency\")\n",
    "plt.bar([\"Anesthesia(D)\", \"Anesthesia(A)\", \"Antibiotics(D)\", \"Antibiotics(A)\"], amount)\n",
    "plt.show()"
   ]
  },
  {
   "cell_type": "code",
   "execution_count": 477,
   "metadata": {},
   "outputs": [
    {
     "data": {
      "text/plain": [
       "<matplotlib.collections.PathCollection at 0x7f6cac3a9450>"
      ]
     },
     "execution_count": 477,
     "metadata": {},
     "output_type": "execute_result"
    },
    {
     "data": {
      "image/png": "[encoded data removed]",
      "text/plain": [
       "<Figure size 432x288 with 1 Axes>"
      ]
     },
     "metadata": {
      "needs_background": "light"
     },
     "output_type": "display_data"
    }
   ],
   "source": [
    "# Scatter plot\n",
    "plt.title(\"Survive Rate\")\n",
    "plt.xlabel(\"Mom's BMI\")\n",
    "plt.ylabel(\"APGAR 5\")\n",
    "plt.scatter(predict_result[\"MOTHER_BMI_RECODE\"], predict_result[\"APGAR_5\"], c = predict_result[\"prediction\"])"
   ]
  }
 ],
 "metadata": {
  "kernelspec": {
   "display_name": "Python 3",
   "language": "python",
   "name": "python3"
  },
  "language_info": {
   "codemirror_mode": {
    "name": "ipython",
    "version": 3
   },
   "file_extension": ".py",
   "mimetype": "text/x-python",
   "name": "python",
   "nbconvert_exporter": "python",
   "pygments_lexer": "ipython3",
   "version": "3.7.4"
  }
 },
 "nbformat": 4,
 "nbformat_minor": 2
}
